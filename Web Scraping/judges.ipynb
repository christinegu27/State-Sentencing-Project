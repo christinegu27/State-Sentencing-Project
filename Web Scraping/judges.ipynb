{
 "cells": [
  {
   "cell_type": "code",
   "execution_count": 1,
   "metadata": {},
   "outputs": [],
   "source": [
    "import warnings\n",
    "warnings.filterwarnings(\"ignore\")"
   ]
  },
  {
   "cell_type": "code",
   "execution_count": 2,
   "metadata": {},
   "outputs": [],
   "source": [
    "import pandas as pd\n",
    "judges = pd.read_csv(\"/Users/hinaljajal/Downloads/State-Sentencing-Project/WebScraping/all_judges.csv\")"
   ]
  },
  {
   "cell_type": "code",
   "execution_count": 3,
   "metadata": {},
   "outputs": [],
   "source": [
    "judges = judges.dropna()"
   ]
  },
  {
   "cell_type": "code",
   "execution_count": 4,
   "metadata": {
    "scrolled": false
   },
   "outputs": [],
   "source": [
    "titles = []\n",
    "for x in judges[\"Judge\"]:\n",
    "    titles.append(x[0:3])"
   ]
  },
  {
   "cell_type": "code",
   "execution_count": 5,
   "metadata": {},
   "outputs": [
    {
     "data": {
      "text/plain": [
       "10031"
      ]
     },
     "execution_count": 5,
     "metadata": {},
     "output_type": "execute_result"
    }
   ],
   "source": [
    "len(titles)"
   ]
  },
  {
   "cell_type": "code",
   "execution_count": 6,
   "metadata": {},
   "outputs": [],
   "source": [
    "judges[\"Title\"] = titles"
   ]
  },
  {
   "cell_type": "code",
   "execution_count": 7,
   "metadata": {
    "scrolled": true
   },
   "outputs": [
    {
     "data": {
      "text/html": [
       "<div>\n",
       "<style scoped>\n",
       "    .dataframe tbody tr th:only-of-type {\n",
       "        vertical-align: middle;\n",
       "    }\n",
       "\n",
       "    .dataframe tbody tr th {\n",
       "        vertical-align: top;\n",
       "    }\n",
       "\n",
       "    .dataframe thead th {\n",
       "        text-align: right;\n",
       "    }\n",
       "</style>\n",
       "<table border=\"1\" class=\"dataframe\">\n",
       "  <thead>\n",
       "    <tr style=\"text-align: right;\">\n",
       "      <th></th>\n",
       "      <th>Judge</th>\n",
       "      <th>Title</th>\n",
       "    </tr>\n",
       "  </thead>\n",
       "  <tbody>\n",
       "    <tr>\n",
       "      <th>1</th>\n",
       "      <td>Hon G. Steven Agee</td>\n",
       "      <td>Hon</td>\n",
       "    </tr>\n",
       "    <tr>\n",
       "      <th>2</th>\n",
       "      <td>Hon Leslie M. Alden</td>\n",
       "      <td>Hon</td>\n",
       "    </tr>\n",
       "    <tr>\n",
       "      <th>3</th>\n",
       "      <td>Hon John Richard Alderman</td>\n",
       "      <td>Hon</td>\n",
       "    </tr>\n",
       "    <tr>\n",
       "      <th>4</th>\n",
       "      <td>Hon William N. Alexander II</td>\n",
       "      <td>Hon</td>\n",
       "    </tr>\n",
       "    <tr>\n",
       "      <th>5</th>\n",
       "      <td>Hon Michael Coghlan Allen</td>\n",
       "      <td>Hon</td>\n",
       "    </tr>\n",
       "    <tr>\n",
       "      <th>...</th>\n",
       "      <td>...</td>\n",
       "      <td>...</td>\n",
       "    </tr>\n",
       "    <tr>\n",
       "      <th>10085</th>\n",
       "      <td>Ms. Monica Lynne Martin</td>\n",
       "      <td>Ms.</td>\n",
       "    </tr>\n",
       "    <tr>\n",
       "      <th>10086</th>\n",
       "      <td>Ms. Jill M. Long</td>\n",
       "      <td>Ms.</td>\n",
       "    </tr>\n",
       "    <tr>\n",
       "      <th>10087</th>\n",
       "      <td>Ms. Mary Johanna Hanzlik</td>\n",
       "      <td>Ms.</td>\n",
       "    </tr>\n",
       "    <tr>\n",
       "      <th>10088</th>\n",
       "      <td>Mr. Jonathan Wayne Robbins</td>\n",
       "      <td>Mr.</td>\n",
       "    </tr>\n",
       "    <tr>\n",
       "      <th>10089</th>\n",
       "      <td>Mr. Joseph Edward McGuire Jr.</td>\n",
       "      <td>Mr.</td>\n",
       "    </tr>\n",
       "  </tbody>\n",
       "</table>\n",
       "<p>10031 rows × 2 columns</p>\n",
       "</div>"
      ],
      "text/plain": [
       "                               Judge Title\n",
       "1                 Hon G. Steven Agee   Hon\n",
       "2                Hon Leslie M. Alden   Hon\n",
       "3          Hon John Richard Alderman   Hon\n",
       "4        Hon William N. Alexander II   Hon\n",
       "5          Hon Michael Coghlan Allen   Hon\n",
       "...                              ...   ...\n",
       "10085        Ms. Monica Lynne Martin   Ms.\n",
       "10086               Ms. Jill M. Long   Ms.\n",
       "10087       Ms. Mary Johanna Hanzlik   Ms.\n",
       "10088     Mr. Jonathan Wayne Robbins   Mr.\n",
       "10089  Mr. Joseph Edward McGuire Jr.   Mr.\n",
       "\n",
       "[10031 rows x 2 columns]"
      ]
     },
     "execution_count": 7,
     "metadata": {},
     "output_type": "execute_result"
    }
   ],
   "source": [
    "judges"
   ]
  },
  {
   "cell_type": "code",
   "execution_count": 8,
   "metadata": {},
   "outputs": [],
   "source": [
    "judges = judges[judges[\"Title\"]==\"Hon\"]"
   ]
  },
  {
   "cell_type": "code",
   "execution_count": 9,
   "metadata": {},
   "outputs": [],
   "source": [
    "# judges['Judge'] =judges['Judge'].str.replace(['I','II','III','IV','V','Jr.','Hon'],'')\n",
    "judges['Judge'] =judges['Judge'].str.replace('I','')\n",
    "judges['Judge'] =judges['Judge'].str.replace('II','')\n",
    "judges['Judge'] =judges['Judge'].str.replace('III','')\n",
    "judges['Judge'] =judges['Judge'].str.replace('IV','')\n",
    "judges['Judge'] =judges['Judge'].str.replace('V','')\n",
    "judges['Judge'] =judges['Judge'].str.replace('Jr.','')\n",
    "judges['Judge'] =judges['Judge'].str.replace('Hon','')\n",
    "judges['Judge'] =judges['Judge'].str.replace('.','')\n",
    "judges['Judge'] =judges['Judge'].str.replace(\"'\",' ')\n",
    "judges['Judge'] =judges['Judge'].str.replace(\"-\",' ')"
   ]
  },
  {
   "cell_type": "code",
   "execution_count": 11,
   "metadata": {},
   "outputs": [],
   "source": [
    "s = \"G Steven Agee\""
   ]
  },
  {
   "cell_type": "code",
   "execution_count": 12,
   "metadata": {},
   "outputs": [
    {
     "data": {
      "text/plain": [
       "'GSA'"
      ]
     },
     "execution_count": 12,
     "metadata": {},
     "output_type": "execute_result"
    }
   ],
   "source": [
    "''.join(i[0] for i in s.split())"
   ]
  },
  {
   "cell_type": "code",
   "execution_count": 13,
   "metadata": {},
   "outputs": [],
   "source": [
    "judges[\"Initials\"]=[''.join(i[0] for i in x.split()) for x in judges['Judge'] ]"
   ]
  },
  {
   "cell_type": "code",
   "execution_count": 14,
   "metadata": {},
   "outputs": [
    {
     "data": {
      "text/html": [
       "<div>\n",
       "<style scoped>\n",
       "    .dataframe tbody tr th:only-of-type {\n",
       "        vertical-align: middle;\n",
       "    }\n",
       "\n",
       "    .dataframe tbody tr th {\n",
       "        vertical-align: top;\n",
       "    }\n",
       "\n",
       "    .dataframe thead th {\n",
       "        text-align: right;\n",
       "    }\n",
       "</style>\n",
       "<table border=\"1\" class=\"dataframe\">\n",
       "  <thead>\n",
       "    <tr style=\"text-align: right;\">\n",
       "      <th></th>\n",
       "      <th>Judge</th>\n",
       "      <th>Title</th>\n",
       "      <th>Initials</th>\n",
       "    </tr>\n",
       "  </thead>\n",
       "  <tbody>\n",
       "    <tr>\n",
       "      <th>1</th>\n",
       "      <td>G Steven Agee</td>\n",
       "      <td>Hon</td>\n",
       "      <td>GSA</td>\n",
       "    </tr>\n",
       "    <tr>\n",
       "      <th>2</th>\n",
       "      <td>Leslie M Alden</td>\n",
       "      <td>Hon</td>\n",
       "      <td>LMA</td>\n",
       "    </tr>\n",
       "    <tr>\n",
       "      <th>3</th>\n",
       "      <td>John Richard Alderman</td>\n",
       "      <td>Hon</td>\n",
       "      <td>JRA</td>\n",
       "    </tr>\n",
       "    <tr>\n",
       "      <th>4</th>\n",
       "      <td>William N Alexander</td>\n",
       "      <td>Hon</td>\n",
       "      <td>WNA</td>\n",
       "    </tr>\n",
       "    <tr>\n",
       "      <th>5</th>\n",
       "      <td>Michael Coghlan Allen</td>\n",
       "      <td>Hon</td>\n",
       "      <td>MCA</td>\n",
       "    </tr>\n",
       "    <tr>\n",
       "      <th>...</th>\n",
       "      <td>...</td>\n",
       "      <td>...</td>\n",
       "      <td>...</td>\n",
       "    </tr>\n",
       "    <tr>\n",
       "      <th>9845</th>\n",
       "      <td>Mona A Foley</td>\n",
       "      <td>Hon</td>\n",
       "      <td>MAF</td>\n",
       "    </tr>\n",
       "    <tr>\n",
       "      <th>9846</th>\n",
       "      <td>William D Gardner</td>\n",
       "      <td>Hon</td>\n",
       "      <td>WDG</td>\n",
       "    </tr>\n",
       "    <tr>\n",
       "      <th>9847</th>\n",
       "      <td>J Jack Kennedy</td>\n",
       "      <td>Hon</td>\n",
       "      <td>JJK</td>\n",
       "    </tr>\n",
       "    <tr>\n",
       "      <th>9848</th>\n",
       "      <td>Jeremiah E Musser</td>\n",
       "      <td>Hon</td>\n",
       "      <td>JEM</td>\n",
       "    </tr>\n",
       "    <tr>\n",
       "      <th>9849</th>\n",
       "      <td>Kristen N Nelson</td>\n",
       "      <td>Hon</td>\n",
       "      <td>KNN</td>\n",
       "    </tr>\n",
       "  </tbody>\n",
       "</table>\n",
       "<p>6975 rows × 3 columns</p>\n",
       "</div>"
      ],
      "text/plain": [
       "                       Judge Title Initials\n",
       "1              G Steven Agee   Hon      GSA\n",
       "2             Leslie M Alden   Hon      LMA\n",
       "3      John Richard Alderman   Hon      JRA\n",
       "4       William N Alexander    Hon      WNA\n",
       "5      Michael Coghlan Allen   Hon      MCA\n",
       "...                      ...   ...      ...\n",
       "9845            Mona A Foley   Hon      MAF\n",
       "9846       William D Gardner   Hon      WDG\n",
       "9847         J Jack Kennedy    Hon      JJK\n",
       "9848       Jeremiah E Musser   Hon      JEM\n",
       "9849        Kristen N Nelson   Hon      KNN\n",
       "\n",
       "[6975 rows x 3 columns]"
      ]
     },
     "execution_count": 14,
     "metadata": {},
     "output_type": "execute_result"
    }
   ],
   "source": [
    "judges"
   ]
  },
  {
   "cell_type": "code",
   "execution_count": 16,
   "metadata": {},
   "outputs": [],
   "source": [
    "judges.to_csv(r'/Users/hinaljajal/Downloads/judge_initials.csv', index = False)"
   ]
  }
 ],
 "metadata": {
  "kernelspec": {
   "display_name": "Python 3",
   "language": "python",
   "name": "python3"
  },
  "language_info": {
   "codemirror_mode": {
    "name": "ipython",
    "version": 3
   },
   "file_extension": ".py",
   "mimetype": "text/x-python",
   "name": "python",
   "nbconvert_exporter": "python",
   "pygments_lexer": "ipython3",
   "version": "3.8.5"
  }
 },
 "nbformat": 4,
 "nbformat_minor": 4
}
