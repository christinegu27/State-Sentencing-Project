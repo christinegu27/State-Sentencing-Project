{
 "cells": [
  {
   "cell_type": "code",
   "execution_count": 1,
   "metadata": {},
   "outputs": [],
   "source": [
    "import pandas as pd\n",
    "import urllib.request"
   ]
  },
  {
   "cell_type": "markdown",
   "metadata": {},
   "source": [
    "changes made 5/30: (feel free to look at github history if you want to revert some stuff)\n",
    "- loaded in court_list and processed judges outside of function\n",
    "- loaded in detail_codes for eventual mapping \n",
    "- used map instead of merge to replace court id with court name outside of function - looks cleaner\n",
    "- took out all the stuff with the judges dataframe since it's already been moved over to the script\n",
    "- creating a function for mapping codes with actual meanings\n",
    "    - started the probation type column b/c \"No Probation\" and \"NP\" was my mistake when scraping"
   ]
  },
  {
   "cell_type": "code",
   "execution_count": 2,
   "metadata": {},
   "outputs": [],
   "source": [
    "#read in courts and judges\n",
    "court_list = pd.read_csv(\"https://raw.githubusercontent.com/christinegu27/State-Sentencing-Project/main/CSV%20Processing/courts.csv\")\n",
    "judges = pd.read_csv(\"https://raw.githubusercontent.com/christinegu27/State-Sentencing-Project/main/CSV%20Processing/judges.csv\")\n",
    "codes = pd.read_csv(\"https://raw.githubusercontent.com/christinegu27/State-Sentencing-Project/main/CSV%20Processing/detail_codes.csv\")\n",
    "#dictionary for replacing the court id with the court name\n",
    "court_code = dict(court_list[[\"Court ID\", \"Court Name\"]].values)"
   ]
  },
  {
   "cell_type": "code",
   "execution_count": 3,
   "metadata": {},
   "outputs": [],
   "source": [
    "#Replace codes in the dataframe with their actual meaning\n",
    "#Ex. replace \"W\" with \"White\" for defendant race\n",
    "def map_values(df):\n",
    "    d = dict()\n",
    "    f = open(\"/Users/hinaljajal/Downloads/State-Sentencing-Project/CSV Processing/detail_codes.csv\")\n",
    "\n",
    "    for line in f:\n",
    "        line = line.strip('\\n')\n",
    "        line = line.split(\",\")\n",
    "        key,val=line[0],line[1]\n",
    "        d[key] = val\n",
    "    df = df.replace(d)\n",
    "    return df"
   ]
  },
  {
   "cell_type": "markdown",
   "metadata": {},
   "source": [
    "I'm thinking it might be better to load in the stuff outside the function when generalizing if we're eventually going to concatenate them all together"
   ]
  },
  {
   "cell_type": "code",
   "execution_count": null,
   "metadata": {},
   "outputs": [],
   "source": [
    "def case_matcher(cases):\n",
    "    \"\"\"\n",
    "    cases: a dataframe of cases for 1 specifc court\n",
    "    \"\"\"\n",
    "#     case_url=\"/Users/hinaljajal/Downloads/{}.csv\".format(court+\"_cases\")\n",
    "#     cases=pd.read_csv(case_url)\n",
    "    \n",
    "    cases[\"Year\"]=cases[\"Last Hearing Date\"].str[-4:]\n",
    "\n",
    "    #checks if there are are different judges with the same initials\n",
    "    judges1 = judges.drop_duplicates(subset=['Judge Full Name'])\n",
    "    boolean = judges1.duplicated(subset=['Judge']).any()\n",
    "    \n",
    "    #Merges the columns by the judge and the hearing year\n",
    "    cases = cases.merge(judges, how=\"left\",on = [\"Judge\", \"Year\"])\n",
    "        \n",
    "    #Data cleaning\n",
    "    cases['Race'] = cases['Race'].fillna(\"U\") #U is the code for unknowns \n",
    "    cases['Sentence Y'] = cases['Sentence Y'].fillna(0)\n",
    "    cases['Sentence M'] = cases['Sentence M'].fillna(0)\n",
    "    cases['Sentence D'] = cases['Sentence D'].fillna(0)\n",
    "    cases['Probation D'] = cases['Probation D'].fillna(0)\n",
    "    cases['Probation Y'] = cases['Probation Y'].fillna(0)\n",
    "    cases['Probation M'] = cases['Probation M'].fillna(0)\n",
    "    cases['Judge Full Name'] = cases['Judge Full Name'].fillna(\"Unknown\") #Nans are filled with unknowns \n",
    "\n",
    "\n",
    "    #Saves the dataframe to a csv\n",
    "    file_name = '/Users/hinaljajal/Downloads/{}.csv'.format(court)\n",
    "    cases.to_csv(file_name, index = False)\n",
    "    \n",
    "    return cases"
   ]
  },
  {
   "cell_type": "code",
   "execution_count": null,
   "metadata": {},
   "outputs": [],
   "source": [
    "separate_court_data = []\n",
    "for court in court_list[\"Court ID\"]:\n",
    "    data = pd.read_csv(f\"path/to/files/{court}.csv\")\n",
    "    data = map_values(data)\n",
    "    #Slices the judges for the particular court \n",
    "    judges[judges[\"Court Name\"]==court_code[court]]\n",
    "    #replace court code with name, ie \"001C\" with \"Accomack\"\n",
    "    data[\"Court\"] = court_code[court]\n",
    "    data = case_matcher(data)\n",
    "    separate_court_data.append(data) #add to list for concatenation\n",
    "    \n",
    "final_cases = pd.concat(separate_court_data, ignore_index = True)"
   ]
  },
  {
   "cell_type": "code",
   "execution_count": null,
   "metadata": {},
   "outputs": [],
   "source": [
    "#put in database?"
   ]
  }
 ],
 "metadata": {
  "kernelspec": {
   "display_name": "Python 3",
   "language": "python",
   "name": "python3"
  },
  "language_info": {
   "codemirror_mode": {
    "name": "ipython",
    "version": 3
   },
   "file_extension": ".py",
   "mimetype": "text/x-python",
   "name": "python",
   "nbconvert_exporter": "python",
   "pygments_lexer": "ipython3",
   "version": "3.8.5"
  }
 },
 "nbformat": 4,
 "nbformat_minor": 4
}
