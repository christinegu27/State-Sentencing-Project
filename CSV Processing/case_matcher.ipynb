{
 "cells": [
  {
   "cell_type": "code",
   "execution_count": 1,
   "metadata": {},
   "outputs": [],
   "source": [
    "import pandas as pd"
   ]
  },
  {
   "cell_type": "code",
   "execution_count": null,
   "metadata": {},
   "outputs": [],
   "source": [
    "courts = [\"accomack\"]"
   ]
  },
  {
   "cell_type": "code",
   "execution_count": null,
   "metadata": {},
   "outputs": [],
   "source": [
    "def case_matcher(court):\n",
    "    judge_url = \"/Users/hinaljajal/Downloads/State-Sentencing-Project/Web Scraping/judgescraper/{}.csv\".format(court)\n",
    "    judges = pd.read_csv(judge_url)\n",
    "    case_url=\"/Users/hinaljajal/Downloads/{}.csv\".format(court+\"_cases\")\n",
    "    cases=pd.read_csv(case_url)\n",
    "    \n",
    "    #Removes roman numerals from names because they aren't used in determining initials\n",
    "    judges['Judge'] =judges['Judge'].str.replace('I','')\n",
    "    judges['Judge'] =judges['Judge'].str.replace('II','')\n",
    "    judges['Judge'] =judges['Judge'].str.replace('III','')\n",
    "    judges['Judge'] =judges['Judge'].str.replace('IV','')\n",
    "    judges['Judge'] =judges['Judge'].str.replace('V','')\n",
    "    judges['Judge'] =judges['Judge'].str.replace('Jr.','')\n",
    "    #Removes the title \n",
    "    judges['Judge'] =judges['Judge'].str.replace('Hon','')\n",
    "    #Removes punctuation because it isn't used \n",
    "    judges['Judge'] =judges['Judge'].str.replace('.','')\n",
    "    judges['Judge'] =judges['Judge'].str.replace(\"'\",'')\n",
    "    judges['Judge'] =judges['Judge'].str.replace(\"-\",' ')\n",
    "    judges['Judge'] =judges['Judge'].str.replace(\"~\",'')\n",
    "    judges['Judge'] =judges['Judge'].str.replace(\"*\",'')\n",
    "    judges['Judge'] =judges['Judge'].str.replace(\",\",'')\n",
    "    #Removes mentions of chief/presiding judges\n",
    "    judges['Judge'] =judges['Judge'].str.replace(\"Chief Judge\",'')\n",
    "    judges['Judge'] =judges['Judge'].str.replace(\"Presiding Judge\",'')\n",
    "    \n",
    "    #Finds the initials for all judges\n",
    "    judges[\"Initials\"]=[''.join(i[0] for i in x.split()) for x in judges['Judge'] ]\n",
    "    \n",
    "    judges=judges.rename(columns={\"Judge\": \"Judge Full Name\", \"Initials\": \"Judge\"})\n",
    "    \n",
    "    cases[\"Year\"]=cases[\"Last Hearing Date\"].str[-4:]\n",
    "    \n",
    "    #checks if there are are different judges with the same initials\n",
    "    judges1 = judges.drop_duplicates(subset=['Judge Full Name'])\n",
    "    boolean = judges1.duplicated(subset=['Judge']).any()\n",
    "    \n",
    "    #If there are duplicates\n",
    "    if (boolean):\n",
    "        judges['Year']=judges['Year'].astype(int)\n",
    "        cases['Year']=cases['Year'].astype(int)\n",
    "        #Merges the columns by the judge and the hearing year\n",
    "        cases = cases.merge(judges, how=\"left\",on = [\"Judge\", \"Year\"])\n",
    "    \n",
    "    #Saves the dataframe to a csv\n",
    "    file_name = '/Users/hinaljajal/Downloads/{}.csv'.format(court)\n",
    "    cases.to_csv(file_name, index = False)\n",
    "    "
   ]
  },
  {
   "cell_type": "code",
   "execution_count": null,
   "metadata": {},
   "outputs": [],
   "source": [
    "for court in courts:\n",
    "    case_matcher(court)"
   ]
  }
 ],
 "metadata": {
  "kernelspec": {
   "display_name": "Python 3",
   "language": "python",
   "name": "python3"
  },
  "language_info": {
   "codemirror_mode": {
    "name": "ipython",
    "version": 3
   },
   "file_extension": ".py",
   "mimetype": "text/x-python",
   "name": "python",
   "nbconvert_exporter": "python",
   "pygments_lexer": "ipython3",
   "version": "3.8.5"
  }
 },
 "nbformat": 4,
 "nbformat_minor": 4
}
