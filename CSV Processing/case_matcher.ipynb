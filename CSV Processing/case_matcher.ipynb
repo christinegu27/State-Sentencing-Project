{
 "cells": [
  {
   "cell_type": "code",
   "execution_count": 1,
   "metadata": {},
   "outputs": [],
   "source": [
    "import pandas as pd\n",
    "import urllib.request\n",
    "import warnings\n",
    "warnings.filterwarnings('ignore')"
   ]
  },
  {
   "cell_type": "code",
   "execution_count": 2,
   "metadata": {},
   "outputs": [],
   "source": [
    "#read in courts and judges\n",
    "court_list = pd.read_csv(\"https://raw.githubusercontent.com/christinegu27/State-Sentencing-Project/main/CSV%20Processing/courts.csv\")\n",
    "judges = pd.read_csv(\"https://raw.githubusercontent.com/christinegu27/State-Sentencing-Project/main/CSV%20Processing/judges.csv\")\n",
    "#dictionary for replacing the court id with the court name\n",
    "court_code = dict(court_list[[\"Court ID\", \"Court Name\"]].values)"
   ]
  },
  {
   "cell_type": "code",
   "execution_count": 3,
   "metadata": {},
   "outputs": [],
   "source": [
    "#Replace codes in the dataframe with their actual meaning\n",
    "#Ex. replace \"W\" with \"White\" for defendant race\n",
    "def map_values(df):\n",
    "    \n",
    "    df = df.rename(columns = {'Charge Code':'Case Type'})#renamed for clarity\n",
    "    #Fill in NaN values \n",
    "    df['Race'] = df['Race'].fillna(\"U\")\n",
    "    df['Sentence Y'] = df['Sentence Y'].fillna(0)\n",
    "    df['Sentence M'] = df['Sentence M'].fillna(0)\n",
    "    df['Sentence D'] = df['Sentence D'].fillna(0)\n",
    "    df['Probation D'] = df['Probation D'].fillna(0)\n",
    "    df['Probation Y'] = df['Probation Y'].fillna(0)\n",
    "    df['Probation M'] = df['Probation M'].fillna(0)\n",
    "    df[\"Charge Class\"] = df['Charge Class'].fillna(\"Un\")\n",
    "    df['Judge'] = df['Judge'].fillna(\"N/A\") \n",
    "    df['Judge Full Name'] = df['Judge Full Name'].fillna(\"N/A\") \n",
    "    #Opens the csv containing the codes\n",
    "    f = open(r\"C:\\Users\\chris\\Documents\\GitHub\\State-Sentencing-Project\\CSV Processing\\edited_codes.csv\")\n",
    "    for line in f:\n",
    "        line = line.strip('\\n')\n",
    "        #Returns a list with the first element being the first column's entry and so on\n",
    "        line = line.split(\",\")\n",
    "        #Replaces each code (stored in first entry) with its meaning (in second entry) for each column (stored in third entry)\n",
    "        df = df.replace({line[2]:{line[0]:line[1]}})\n",
    "    f.close()\n",
    "    \n",
    "    return df"
   ]
  },
  {
   "cell_type": "code",
   "execution_count": 4,
   "metadata": {},
   "outputs": [],
   "source": [
    "def case_matcher(cases, judges_court):\n",
    "    \"\"\"\n",
    "    Matches each case with its respective judge if known/found according to the judges' initials\n",
    "    Parameters:\n",
    "    cases (dataframe): a dataframe of cases for 1 specifc court\n",
    "    judges_court(dataframe): judges' full names, initials, and year for specific court\n",
    "    Returns:\n",
    "    cases(dataframe): dataframe of cases with matched judges\n",
    "    \"\"\"\n",
    "    cases[\"Year\"]=cases[\"Last Hearing Date\"].str[-4:]\n",
    "\n",
    "    #Merges the columns by the judge and the hearing year\n",
    "    cases['Year']=cases['Year'].astype(int)\n",
    "    \n",
    "    judges_court = judges_court.drop(['Year', 'Court Name'], axis = 1)\n",
    "    judges_court = judges_court.drop_duplicates(subset = ['Judge'])\n",
    "\n",
    "    cases = cases.merge(judges_court, how=\"left\", on = [\"Judge\"])\n",
    "    \n",
    "    #dropping the name and second court name column\n",
    "    cases=cases.drop(['Name'], axis=1)\n",
    "        \n",
    "    return cases"
   ]
  },
  {
   "cell_type": "code",
   "execution_count": 5,
   "metadata": {
    "scrolled": false
   },
   "outputs": [],
   "source": [
    "import sqlite3\n",
    "conn = sqlite3.connect(\"cases.db\") # create a database in current directory called cases.db\n",
    "separate_court_data = []\n",
    "for court in court_list[\"Court ID\"]:\n",
    "    data = pd.read_csv(f\"C:/Users/chris/Documents/case data/finished courts 6.7.9.15/{court}.csv\")\n",
    "    #data = pd.read_csv(f\"/Users/hinaljajal/Downloads/FinishedCourts/{court}.csv\")\n",
    "    data = map_values(data)\n",
    "    #Slices the judges for the particular court \n",
    "    judges_court = judges[judges[\"Court Name\"]==court_code[court]]\n",
    "    #replace court code with name, ie \"001C\" with \"Accomack\"\n",
    "    data[\"Court\"] = court_code[court]\n",
    "    data = case_matcher(data, judges_court)\n",
    "    data.to_sql(\"final_cases\", conn, if_exists = \"append\", chunksize = 100000, index = False)\n",
    "    separate_court_data.append(data) #add to list for concatenation\n",
    "    \n",
    "final_cases = pd.concat(separate_court_data, ignore_index = True)\n",
    "conn.close()"
   ]
  },
  {
   "cell_type": "code",
   "execution_count": null,
   "metadata": {},
   "outputs": [],
   "source": [
    "import sqlite3\n",
    "conn = sqlite3.connect(\"cases.db\")# create a database in current directory called cases.db\n",
    "final_cases.to_sql(\"final_cases\", conn, if_exists = \"replace\"index = False)\n",
    "conn.close()"
   ]
  },
  {
   "cell_type": "code",
   "execution_count": 6,
   "metadata": {
    "scrolled": true
   },
   "outputs": [
    {
     "data": {
      "text/plain": [
       "0.3043542749138131"
      ]
     },
     "execution_count": 6,
     "metadata": {},
     "output_type": "execute_result"
    }
   ],
   "source": [
    "final_cases[\"Judge Full Name\"].isna().mean()"
   ]
  },
  {
   "cell_type": "markdown",
   "metadata": {},
   "source": [
    "This means that we were able to match judges for 70% of the cases, which is great! We could improve this accuracy by looking into the inconsistencies in how some courts record their judges' initials."
   ]
  },
  {
   "cell_type": "code",
   "execution_count": 7,
   "metadata": {
    "scrolled": true
   },
   "outputs": [
    {
     "data": {
      "text/plain": [
       "(2413651, 20)"
      ]
     },
     "execution_count": 7,
     "metadata": {},
     "output_type": "execute_result"
    }
   ],
   "source": [
    "final_cases.shape"
   ]
  }
 ],
 "metadata": {
  "kernelspec": {
   "display_name": "Python 3",
   "language": "python",
   "name": "python3"
  },
  "language_info": {
   "codemirror_mode": {
    "name": "ipython",
    "version": 3
   },
   "file_extension": ".py",
   "mimetype": "text/x-python",
   "name": "python",
   "nbconvert_exporter": "python",
   "pygments_lexer": "ipython3",
   "version": "3.8.5"
  }
 },
 "nbformat": 4,
 "nbformat_minor": 4
}
