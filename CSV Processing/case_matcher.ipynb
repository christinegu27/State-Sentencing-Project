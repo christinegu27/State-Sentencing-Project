{
 "cells": [
  {
   "cell_type": "code",
   "execution_count": 1,
   "metadata": {},
   "outputs": [],
   "source": [
    "import pandas as pd\n",
    "#import sqlite3 \n",
    "import urllib.request\n",
    "import warnings\n",
    "warnings.filterwarnings('ignore')"
   ]
  },
  {
   "cell_type": "markdown",
   "metadata": {},
   "source": [
    "changes made 6/1:\n",
    "- moved the fillna stuff to map_values b/c it gets called before case_matcher\n",
    "- deleted line about loading in unedited detail codes\n",
    "- added judges_court as a parameter to case_matcher just for clarity\n",
    "- dropped \"Court Name\" column b/c \"Court\" is there already\n",
    "- merged just on judge and not both judge and year"
   ]
  },
  {
   "cell_type": "code",
   "execution_count": 2,
   "metadata": {},
   "outputs": [],
   "source": [
    "#read in courts and judges\n",
    "court_list = pd.read_csv(\"https://raw.githubusercontent.com/christinegu27/State-Sentencing-Project/main/CSV%20Processing/courts.csv\")\n",
    "judges = pd.read_csv(\"https://raw.githubusercontent.com/christinegu27/State-Sentencing-Project/main/CSV%20Processing/judges.csv\")\n",
    "#dictionary for replacing the court id with the court name\n",
    "court_code = dict(court_list[[\"Court ID\", \"Court Name\"]].values)\n",
    "#codes=pd.read_csv(\"/Users/hinaljajal/Downloads/State-Sentencing-Project/CSV Processing/edited_codes.csv\")"
   ]
  },
  {
   "cell_type": "code",
   "execution_count": 3,
   "metadata": {},
   "outputs": [],
   "source": [
    "#Replace codes in the dataframe with their actual meaning\n",
    "#Ex. replace \"W\" with \"White\" for defendant race\n",
    "def map_values(df):\n",
    "    #Fill in NaN values\n",
    "    df['Race'] = df['Race'].fillna(\"U\") #U is the code for unknowns \n",
    "    df['Sentence Y'] = df['Sentence Y'].fillna(0)\n",
    "    df['Sentence M'] = df['Sentence M'].fillna(0)\n",
    "    df['Sentence D'] = df['Sentence D'].fillna(0)\n",
    "    df['Probation D'] = df['Probation D'].fillna(0)\n",
    "    df['Probation Y'] = df['Probation Y'].fillna(0)\n",
    "    df['Probation M'] = df['Probation M'].fillna(0)\n",
    "    df[\"Charge Class\"] = df['Charge Class'].fillna(\"Un\")\n",
    "    df['Judge'] = df['Judge'].fillna(\"N/A\") #Nans are filled with unknowns \n",
    "    \n",
    "    #f = open(\"/Users/hinaljajal/Downloads/State-Sentencing-Project/CSV Processing/edited_codes.csv\")\n",
    "    f = open(r\"C:\\Users\\chris\\Documents\\GitHub\\State-Sentencing-Project\\CSV Processing/edited_codes.csv\")\n",
    "    for line in f:\n",
    "        line = line.strip('\\n')\n",
    "        line = line.split(\",\")\n",
    "        df = df.replace({line[2]:{line[0]:line[1]}})\n",
    "    f.close()\n",
    "    \n",
    "    return df"
   ]
  },
  {
   "cell_type": "code",
   "execution_count": 4,
   "metadata": {},
   "outputs": [],
   "source": [
    "def case_matcher(cases, judges_court):\n",
    "    \"\"\"\n",
    "    cases: a dataframe of cases for 1 specifc court\n",
    "    judges_court: list of judges for specific court\n",
    "    \"\"\"\n",
    "\n",
    "    cases[\"Year\"]=cases[\"Last Hearing Date\"].str[-4:]\n",
    "\n",
    "    \n",
    "    \n",
    "    #Merges the columns by the judge and the hearing year\n",
    "    cases['Year']=cases['Year'].astype(int)\n",
    "    cases['Judge']=cases['Judge'].astype(str)\n",
    "    judges_court['Year']=judges_court['Year'].astype(int)\n",
    "    judges_court['Judge']=judges_court['Judge'].astype(str)\n",
    "\n",
    "    cases = cases.merge(judges_court, how=\"left\",on = [\"Judge\"])\n",
    "\n",
    "    #dropping the name and second court name column\n",
    "    cases=cases.drop(['Name','Court Name'], axis=1)\n",
    "    \n",
    "    #Checking merge - can remove when submitting\n",
    "    unknowns = cases[\"Judge Full Name\"].isna().mean()\n",
    "    if unknowns > 0.1:\n",
    "        print(cases[\"Court\"].iloc[1],\":\", (cases[\"Judge\"]==\"N/A\").mean(), unknowns)\n",
    "    \n",
    "    #Saves the dataframe to a csv\n",
    "#     file_name = '/Users/hinaljajal/Downloads/{}.csv'.format(court)\n",
    "#     cases.to_csv(file_name, index = False)\n",
    "    \n",
    "    return cases"
   ]
  },
  {
   "cell_type": "code",
   "execution_count": 5,
   "metadata": {
    "scrolled": false
   },
   "outputs": [
    {
     "name": "stdout",
     "output_type": "stream",
     "text": [
      "Augusta : 0.18791946308724833 0.3446966542874748\n",
      "Bath : 0.0023346303501945525 1.0\n",
      "Buckingham : 0.1813912333242581 0.26585897086849986\n",
      "Campbell : 0.522095540482032 0.522239861451869\n",
      "Charles City : 0.5366619115549215 0.5378031383737518\n",
      "Charlottesville : 0.407513640578835 0.4430114947486467\n",
      "Clifton Forge : 1.0 1.0\n",
      "Essex : 0.9996096799375488 1.0\n",
      "Floyd : 0.9530218384966989 0.9659725749111224\n",
      "Fredericksburg : 0.8655533540900084 0.8764223039909426\n",
      "Gloucester : 0.00491943533437901 0.1702314748799848\n",
      "Goochland : 0.9989146164978292 1.0\n",
      "Grayson : 0.9997834091401343 1.0\n",
      "Greene : 0.999731255038968 1.0\n",
      "Greensville : 0.005437763838870471 0.15175654081900355\n",
      "Hanover : 0.003736647967417198 0.13979289940828402\n",
      "King and Queen : 0.3553634977122522 0.3601931875953228\n",
      "Lancaster : 0.46032048836322015 0.4618466234261732\n",
      "Louisa : 0.5891704227067852 0.5892313314654647\n",
      "Madison : 0.0006996268656716418 1.0\n",
      "Martinsville : 0.5028108579426814 0.5047383033890915\n",
      "Mathews : 0.14866911923826012 0.16771261631681456\n",
      "Middlesex : 0.1229375298044826 0.1430615164520744\n",
      "Nelson : 0.8781952307428376 0.8793961228341053\n",
      "Nottoway : 0.11153500897666069 0.11638240574506284\n",
      "Orange : 0.3417361777515317 0.34457813538052706\n",
      "Patrick : 0.21249522840055987 0.23086906731136278\n",
      "Pulaski : 0.00478115525149654 0.8258571095389878\n",
      "Rappahannock : 0.09926995049089536 0.10841654778887304\n",
      "Surry : 0.01920768307322929 0.9099639855942377\n",
      "Wythe : 0.9958863607147448 0.9973004242190513\n",
      "York County/Poquoson : 0.00889288120368291 1.0\n"
     ]
    }
   ],
   "source": [
    "separate_court_data = []\n",
    "for court in court_list[\"Court ID\"]:\n",
    "    try:\n",
    "        #data = pd.read_csv(\"/Users/hinaljajal/Downloads/finished_courts/{}.csv\".format(court))\n",
    "        data = pd.read_csv(\"C:/Users/chris/Documents/case data/finished courts 5.29.4.30/{}.csv\".format(court))\n",
    "    except FileNotFoundError:\n",
    "        continue\n",
    "    data = map_values(data)\n",
    "    #Slices the judges for the particular court \n",
    "    judges_court = judges[judges[\"Court Name\"]==court_code[court]]\n",
    "    #replace court code with name, ie \"001C\" with \"Accomack\"\n",
    "    data[\"Court\"] = court_code[court]\n",
    "    data = case_matcher(data, judges_court)\n",
    "    separate_court_data.append(data) #add to list for concatenation\n",
    "    \n",
    "final_cases = pd.concat(separate_court_data, ignore_index = True)"
   ]
  },
  {
   "cell_type": "code",
   "execution_count": 7,
   "metadata": {
    "scrolled": false
   },
   "outputs": [
    {
     "data": {
      "text/plain": [
       "0.027194399003681775"
      ]
     },
     "execution_count": 7,
     "metadata": {},
     "output_type": "execute_result"
    }
   ],
   "source": [
    "final_cases[\"Judge Full Name\"].isna().mean()"
   ]
  },
  {
   "cell_type": "markdown",
   "metadata": {},
   "source": [
    "Outlier courts:\n",
    "- Madison - Uses first 4 letters of last name instead of judge initials (possibly? not certain)\n",
    "- Pulaski and Surry - Majority uses ^ but also some cases have initials\n",
    "- Bath - Last name, also WETS = John E. Wetsel?\n",
    "- Buckingham - uses both\n",
    "- Buena Vista - look into same name multiple initials\n",
    "- Gloucester - just a mess with typos/judges outside of court\n",
    "- Greensville - uses last name, initials, first letter of last name\n",
    "- Hanover - ID is 1, 2, 3, instead of names"
   ]
  },
  {
   "cell_type": "code",
   "execution_count": null,
   "metadata": {},
   "outputs": [],
   "source": []
  }
 ],
 "metadata": {
  "kernelspec": {
   "display_name": "Python 3",
   "language": "python",
   "name": "python3"
  },
  "language_info": {
   "codemirror_mode": {
    "name": "ipython",
    "version": 3
   },
   "file_extension": ".py",
   "mimetype": "text/x-python",
   "name": "python",
   "nbconvert_exporter": "python",
   "pygments_lexer": "ipython3",
   "version": "3.8.5"
  }
 },
 "nbformat": 4,
 "nbformat_minor": 4
}
